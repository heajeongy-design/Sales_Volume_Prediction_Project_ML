{
  "nbformat": 4,
  "nbformat_minor": 0,
  "metadata": {
    "colab": {
      "provenance": []
    },
    "kernelspec": {
      "name": "python3",
      "display_name": "Python 3"
    },
    "language_info": {
      "name": "python"
    }
  },
  "cells": [
    {
      "cell_type": "markdown",
      "source": [
        "# 1. 데이터 기본 확인 및 결측치 처리"
      ],
      "metadata": {
        "id": "DtPOW9Nj2mGk"
      }
    },
    {
      "cell_type": "code",
      "source": [
        "import pandas as pd\n",
        "import numpy as np\n",
        "\n",
        "# 데이터 불러오기\n",
        "df = pd.read_csv(\"train.csv\")\n",
        "\n",
        "# 기본 정보 확인\n",
        "print(df.info())\n",
        "print(df.describe())\n",
        "\n",
        "# 결측치 확인\n",
        "print(\"\\n[결측치 확인]\")\n",
        "print(df.isnull().sum())\n",
        "\n",
        "# 결측치 처리 (수치형: 평균, 범주형: 최빈값)\n",
        "for col in df.columns:\n",
        "    if df[col].isnull().sum() > 0:\n",
        "        if df[col].dtype in ['float64', 'int64']:\n",
        "            df[col].fillna(df[col].mean(), inplace=True)\n",
        "        else:\n",
        "            df[col].fillna(df[col].mode()[0], inplace=True)\n",
        "\n",
        "print(\"\\n결측치 처리 완료\")\n",
        "print(df.isnull().sum())\n"
      ],
      "metadata": {
        "id": "LxbZT_fK2qSg",
        "colab": {
          "base_uri": "https://localhost:8080/"
        },
        "outputId": "a47effcf-4afb-45b6-ba38-cdd6158936d1"
      },
      "execution_count": 1,
      "outputs": [
        {
          "output_type": "stream",
          "name": "stdout",
          "text": [
            "<class 'pandas.core.frame.DataFrame'>\n",
            "RangeIndex: 102676 entries, 0 to 102675\n",
            "Data columns (total 3 columns):\n",
            " #   Column    Non-Null Count   Dtype \n",
            "---  ------    --------------   ----- \n",
            " 0   영업일자      102676 non-null  object\n",
            " 1   영업장명_메뉴명  102676 non-null  object\n",
            " 2   매출수량      102676 non-null  int64 \n",
            "dtypes: int64(1), object(2)\n",
            "memory usage: 2.4+ MB\n",
            "None\n",
            "                매출수량\n",
            "count  102676.000000\n",
            "mean       10.653083\n",
            "std        41.887692\n",
            "min       -80.000000\n",
            "25%         0.000000\n",
            "50%         0.000000\n",
            "75%         4.000000\n",
            "max      1372.000000\n",
            "\n",
            "[결측치 확인]\n",
            "영업일자        0\n",
            "영업장명_메뉴명    0\n",
            "매출수량        0\n",
            "dtype: int64\n",
            "\n",
            "결측치 처리 완료\n",
            "영업일자        0\n",
            "영업장명_메뉴명    0\n",
            "매출수량        0\n",
            "dtype: int64\n"
          ]
        }
      ]
    },
    {
      "cell_type": "code",
      "source": [
        "# 영업일자 기준으로 요일 컬럼 추가\n",
        "df['영업일자'] = pd.to_datetime(df['영업일자'], errors='coerce')\n",
        "df['요일'] = df['영업일자'].dt.day_name()\n",
        "\n",
        "print(df[['영업일자', '요일']].head())"
      ],
      "metadata": {
        "colab": {
          "base_uri": "https://localhost:8080/"
        },
        "id": "HAdhqZ7o8jwH",
        "outputId": "9426fba7-5463-407a-a935-c3f3ecace8cc"
      },
      "execution_count": 2,
      "outputs": [
        {
          "output_type": "stream",
          "name": "stdout",
          "text": [
            "        영업일자         요일\n",
            "0 2023-01-01     Sunday\n",
            "1 2023-01-02     Monday\n",
            "2 2023-01-03    Tuesday\n",
            "3 2023-01-04  Wednesday\n",
            "4 2023-01-05   Thursday\n"
          ]
        }
      ]
    },
    {
      "cell_type": "markdown",
      "source": [
        "# 2. EDA"
      ],
      "metadata": {
        "id": "RB3u28PR6ofE"
      }
    },
    {
      "cell_type": "code",
      "source": [
        "!apt-get install -y fonts-nanum\n",
        "!fc-cache -fv\n",
        "!rm -rf ~/.cache/matplotlib"
      ],
      "metadata": {
        "colab": {
          "base_uri": "https://localhost:8080/"
        },
        "id": "qzHccVjM65z_",
        "outputId": "81a17c0f-c83e-4f6a-edb8-41e3e24c7879"
      },
      "execution_count": 3,
      "outputs": [
        {
          "output_type": "stream",
          "name": "stdout",
          "text": [
            "Reading package lists... Done\n",
            "Building dependency tree... Done\n",
            "Reading state information... Done\n",
            "The following NEW packages will be installed:\n",
            "  fonts-nanum\n",
            "0 upgraded, 1 newly installed, 0 to remove and 38 not upgraded.\n",
            "Need to get 10.3 MB of archives.\n",
            "After this operation, 34.1 MB of additional disk space will be used.\n",
            "Get:1 http://archive.ubuntu.com/ubuntu jammy/universe amd64 fonts-nanum all 20200506-1 [10.3 MB]\n",
            "Fetched 10.3 MB in 0s (29.9 MB/s)\n",
            "Selecting previously unselected package fonts-nanum.\n",
            "(Reading database ... 126718 files and directories currently installed.)\n",
            "Preparing to unpack .../fonts-nanum_20200506-1_all.deb ...\n",
            "Unpacking fonts-nanum (20200506-1) ...\n",
            "Setting up fonts-nanum (20200506-1) ...\n",
            "Processing triggers for fontconfig (2.13.1-4.2ubuntu5) ...\n",
            "/usr/share/fonts: caching, new cache contents: 0 fonts, 1 dirs\n",
            "/usr/share/fonts/truetype: caching, new cache contents: 0 fonts, 3 dirs\n",
            "/usr/share/fonts/truetype/humor-sans: caching, new cache contents: 1 fonts, 0 dirs\n",
            "/usr/share/fonts/truetype/liberation: caching, new cache contents: 16 fonts, 0 dirs\n",
            "/usr/share/fonts/truetype/nanum: caching, new cache contents: 12 fonts, 0 dirs\n",
            "/usr/local/share/fonts: caching, new cache contents: 0 fonts, 0 dirs\n",
            "/root/.local/share/fonts: skipping, no such directory\n",
            "/root/.fonts: skipping, no such directory\n",
            "/usr/share/fonts/truetype: skipping, looped directory detected\n",
            "/usr/share/fonts/truetype/humor-sans: skipping, looped directory detected\n",
            "/usr/share/fonts/truetype/liberation: skipping, looped directory detected\n",
            "/usr/share/fonts/truetype/nanum: skipping, looped directory detected\n",
            "/var/cache/fontconfig: cleaning cache directory\n",
            "/root/.cache/fontconfig: not cleaning non-existent cache directory\n",
            "/root/.fontconfig: not cleaning non-existent cache directory\n",
            "fc-cache: succeeded\n"
          ]
        }
      ]
    },
    {
      "cell_type": "code",
      "source": [
        "#  EDA: 요일이 포함된 매출 데이터 시각화\n",
        "# ============================================\n",
        "\n",
        "import pandas as pd\n",
        "import matplotlib.pyplot as plt\n",
        "import seaborn as sns\n",
        "import matplotlib.font_manager as fm\n",
        "\n",
        "# --------------------------------------------\n",
        "# 1. 데이터 불러오기 및 폰트 설정\n",
        "# --------------------------------------------\n",
        "df = pd.read_csv(\"train.csv\")\n",
        "\n",
        "font_path = '/usr/share/fonts/truetype/nanum/NanumGothic.ttf'\n",
        "fm.fontManager.addfont(font_path)\n",
        "plt.rcParams['font.family'] = 'NanumGothic'\n",
        "plt.rcParams['axes.unicode_minus'] = False\n",
        "\n",
        "# --------------------------------------------\n",
        "# 2. 날짜형 변환 및 요일/월 파생변수 추가\n",
        "# --------------------------------------------\n",
        "df['영업일자'] = pd.to_datetime(df['영업일자'], errors='coerce')\n",
        "df['요일'] = df['영업일자'].dt.day_name()\n",
        "df['월'] = df['영업일자'].dt.month\n",
        "\n",
        "# --------------------------------------------\n",
        "# (1). 요일별 평균 매출수량\n",
        "# --------------------------------------------\n",
        "plt.figure(figsize=(10,6))\n",
        "sns.barplot(data=df, x='요일', y='매출수량', estimator='mean', errorbar=None,\n",
        "            order=['Monday','Tuesday','Wednesday','Thursday','Friday','Saturday','Sunday'])\n",
        "plt.title(\"요일별 평균 매출수량\")\n",
        "plt.xlabel(\"요일\")\n",
        "plt.ylabel(\"평균 매출수량\")\n",
        "plt.show()"
      ],
      "metadata": {
        "colab": {
          "base_uri": "https://localhost:8080/",
          "height": 561
        },
        "id": "btFsArAc6mZ-",
        "outputId": "a47853e1-f3da-45f7-9994-6448f3e4921c"
      },
      "execution_count": 4,
      "outputs": [
        {
          "output_type": "display_data",
          "data": {
            "text/plain": [
              "<Figure size 1000x600 with 1 Axes>"
            ],
            "image/png": "[encoded data removed]"
          },
          "metadata": {}
        }
      ]
    },
    {
      "cell_type": "markdown",
      "source": [
        "요일별 평균 매출수량 그래프를 보기위해 데이터에 요일을 추가해서 시각화를 구현했다. 결과, 주중보다 주말(토,일)에 매출이 뚜렷하게 증가하는 패턴을 보인다. 특히 토요일의 평균 매출수량이 가장 높으며, 금요일과 일요일 역시 상대적으로 높은 수준을 유지하고 있다. 이는 주말 소비 활동 증가와 외식·배달 수요가 집중되는 경향을 반영한 결과이다.\n",
        "\n",
        "반면 월요일부터 수요일까지는 전반적으로 낮은 매출수량을 보여 안정적인 평일 패턴을 형성하고 있다."
      ],
      "metadata": {
        "id": "LpE7CWndCm6P"
      }
    },
    {
      "cell_type": "code",
      "source": [
        "# --------------------------------------------\n",
        "# (2). 월별 총 매출수량 추이\n",
        "# --------------------------------------------\n",
        "plt.figure(figsize=(10,6))\n",
        "sns.lineplot(data=df, x='월', y='매출수량', estimator='sum', errorbar=None, marker='o')\n",
        "plt.title(\"월별 매출수량 추이\")\n",
        "plt.xlabel(\"월\")\n",
        "plt.ylabel(\"매출수량 합계\")\n",
        "plt.show()\n"
      ],
      "metadata": {
        "colab": {
          "base_uri": "https://localhost:8080/",
          "height": 561
        },
        "id": "XvIP-g-d7FEY",
        "outputId": "160442d8-3974-47a1-d3db-ec5fbf2b44c4"
      },
      "execution_count": 5,
      "outputs": [
        {
          "output_type": "display_data",
          "data": {
            "text/plain": [
              "<Figure size 1000x600 with 1 Axes>"
            ],
            "image/png": "[encoded data removed]"
          },
          "metadata": {}
        }
      ]
    },
    {
      "cell_type": "markdown",
      "source": [
        "월별 매출수량 추이를 보면 1월과 2월 초반에 매출이 가장 높게 나타난 후, 3월에 급격히 하락하는 양상을 보인다. 이후 4월에 일시적인 반등이 있지만 전반적으로 하반기로 갈수록 매출이 낮은 수준을 유지하고 있다. 이는 연초 소비 집중 및 시즌 요인(명절, 신년 프로모션 등)의 영향을 받은 것으로 해석된다.\n",
        "\n",
        "하반기에는 9월 이후 소폭의 회복세가 나타나며 10월에 다시 매출이 증가하는 모습이다. 전반적인 흐름을 보면 매출이 특정 시기에 편중되는 경향이 나타난다."
      ],
      "metadata": {
        "id": "BQ3_cDExCqrf"
      }
    },
    {
      "cell_type": "code",
      "source": [
        "# (3). 메뉴별 평균 매출수량 TOP10\n",
        "# --------------------------------------------\n",
        "plt.figure(figsize=(12,6))\n",
        "top_items = df.groupby('영업장명_메뉴명')['매출수량'].mean().sort_values(ascending=False).head(10)\n",
        "sns.barplot(x=top_items.values, y=top_items.index)\n",
        "plt.title(\"메뉴별 평균 매출수량 TOP10\")\n",
        "plt.xlabel(\"평균 매출수량\")\n",
        "plt.ylabel(\"영업장명_메뉴명\")\n",
        "plt.show()"
      ],
      "metadata": {
        "colab": {
          "base_uri": "https://localhost:8080/",
          "height": 469
        },
        "id": "B2qb1KwA7E-T",
        "outputId": "b466b2e8-aba3-4e5f-8575-d22a8ae811f8"
      },
      "execution_count": 6,
      "outputs": [
        {
          "output_type": "display_data",
          "data": {
            "text/plain": [
              "<Figure size 1200x600 with 1 Axes>"
            ],
            "image/png": "[encoded data removed]"
          },
          "metadata": {}
        }
      ]
    },
    {
      "cell_type": "markdown",
      "source": [
        "그래프에서 ‘포레스트릿_고치어묵’, ‘화담숲주막_해물파전’, ‘포레스트릿_떡볶이’ 등 상위 3개 메뉴가 압도적인 판매량을 보이는 점은, 이들이 핵심 수요 메뉴(High-Demand Items) 로 자리 잡고 있음을 의미한다. 해당 메뉴군은 일정한 계절성이나 고정 고객층이 존재할 가능성이 높으므로, 향후 수요예측 모델 구축 시 과거 판매량의 계절 패턴(월별·요일별 변동) 주요 변수로 반영할 필요가 있다.\n",
        "\n",
        "하위권 메뉴의 경우 상대적으로 변동성이 크거나 특정 이벤트/시간대에 집중되는 특성이 있을 가능성이 있다. 따라서 모델 설계 시 메뉴 카테고리(식사/음료/분식 등)와 시간 변수(월, 요일, 공휴일 여부)를 함께 고려하여, 메뉴별로 예측 민감도가 다른 점을 반영해야 한다."
      ],
      "metadata": {
        "id": "YEvxONmcDIML"
      }
    },
    {
      "cell_type": "code",
      "source": [
        "# ============================================\n",
        "# 업체별 매출수량(판매량) 분포\n",
        "# ============================================\n",
        "\n",
        "import pandas as pd\n",
        "import matplotlib.pyplot as plt\n",
        "import seaborn as sns\n",
        "import matplotlib.font_manager as fm\n",
        "\n",
        "# 폰트 설정 (한글 깨짐 방지)\n",
        "font_path = '/usr/share/fonts/truetype/nanum/NanumGothic.ttf'\n",
        "fm.fontManager.addfont(font_path)\n",
        "plt.rcParams['font.family'] = 'NanumGothic'\n",
        "plt.rcParams['axes.unicode_minus'] = False\n",
        "\n",
        "# 1. 영업장명 / 메뉴명 분리\n",
        "df[['영업장명', '메뉴명']] = df['영업장명_메뉴명'].str.split('_', n=1, expand=True)\n",
        "\n",
        "# 2. 업체(영업장명)별 매출수량 합계 계산\n",
        "sales_by_store = (\n",
        "    df.groupby('영업장명', as_index=False)['매출수량']\n",
        "    .sum()\n",
        "    .sort_values(by='매출수량', ascending=True)\n",
        ")\n",
        "\n",
        "# 3. 시각화 (가로 막대그래프)\n",
        "plt.figure(figsize=(10,6))\n",
        "sns.barplot(data=sales_by_store, x='매출수량', y='영업장명', palette='Blues_r')\n",
        "plt.title(\"업체별 총 매출수량 분포\")\n",
        "plt.xlabel(\"총 매출수량\")\n",
        "plt.ylabel(\"업체명\")\n",
        "plt.tight_layout()\n",
        "plt.show()"
      ],
      "metadata": {
        "colab": {
          "base_uri": "https://localhost:8080/",
          "height": 705
        },
        "id": "eoT4uyf7BuE-",
        "outputId": "2ed549e8-048e-439f-c6d7-a353bbbbbc89"
      },
      "execution_count": 7,
      "outputs": [
        {
          "output_type": "stream",
          "name": "stderr",
          "text": [
            "/tmp/ipython-input-1386125768.py:28: FutureWarning: \n",
            "\n",
            "Passing `palette` without assigning `hue` is deprecated and will be removed in v0.14.0. Assign the `y` variable to `hue` and set `legend=False` for the same effect.\n",
            "\n",
            "  sns.barplot(data=sales_by_store, x='매출수량', y='영업장명', palette='Blues_r')\n"
          ]
        },
        {
          "output_type": "display_data",
          "data": {
            "text/plain": [
              "<Figure size 1000x600 with 1 Axes>"
            ],
            "image/png": "[encoded data removed]"
          },
          "metadata": {}
        }
      ]
    },
    {
      "cell_type": "markdown",
      "source": [
        "그래프에서 ‘포레스트릿’, ‘카페테리아’, ‘화담숲주막’이 상위권을 차지하며 전체 매출의 큰 비중을 차지하고 있다. 이 세 업체는 지속적 수요가 발생하는 핵심 공급처(High-demand source)로 보여진다. 특히 ‘포레스트릿’의 매출이 타 업체 대비 두드러지게 높은 점은 제품군 집중도가 높다는 것을 의미한다."
      ],
      "metadata": {
        "id": "7ITo1WkzDO0e"
      }
    },
    {
      "cell_type": "markdown",
      "source": [
        "#3. 군집화를 통한 파생변수 생성 (KMeans)"
      ],
      "metadata": {
        "id": "VcvwD-Il9S1G"
      }
    },
    {
      "cell_type": "code",
      "source": [
        "from sklearn.preprocessing import StandardScaler\n",
        "from sklearn.cluster import KMeans\n",
        "import numpy as np\n",
        "\n",
        "# 수치형 컬럼만 추출 (매출수량만 있는 경우 대비)\n",
        "num_cols = df.select_dtypes(include=[np.number]).columns\n",
        "\n",
        "scaler = StandardScaler()\n",
        "scaled = scaler.fit_transform(df[num_cols])\n",
        "\n",
        "# KMeans 군집화\n",
        "kmeans = KMeans(n_clusters=3, n_init=20, random_state=42)\n",
        "df['cluster'] = kmeans.fit_predict(scaled)\n",
        "\n",
        "print(df[['영업일자', '매출수량', 'cluster']].head())"
      ],
      "metadata": {
        "colab": {
          "base_uri": "https://localhost:8080/"
        },
        "id": "iC6XOuMF9V4L",
        "outputId": "eecf5015-bf32-4e33-b113-81684ba996a9"
      },
      "execution_count": 8,
      "outputs": [
        {
          "output_type": "stream",
          "name": "stdout",
          "text": [
            "        영업일자  매출수량  cluster\n",
            "0 2023-01-01     0        0\n",
            "1 2023-01-02     0        0\n",
            "2 2023-01-03     0        0\n",
            "3 2023-01-04     0        0\n",
            "4 2023-01-05     0        0\n"
          ]
        }
      ]
    },
    {
      "cell_type": "markdown",
      "source": [
        "#4. GLM(일반화 선형모형) 월/요일 별 인과분석"
      ],
      "metadata": {
        "id": "fxTyRyfr9eIN"
      }
    },
    {
      "cell_type": "code",
      "source": [
        "import statsmodels.api as sm\n",
        "from patsy import dmatrices\n",
        "\n",
        "# y: 매출수량 / X: 나머지\n",
        "formula = '매출수량 ~ 월 + C(요일) + C(cluster)' #자동 더미변수(dummy variable)변환\n",
        "y, X = dmatrices(formula, data=df, return_type='dataframe')\n",
        "\n",
        "glm_model = sm.GLM(y, X, family=sm.families.Gaussian()) #분포종류(family) Gaussian 선택\n",
        "glm_results = glm_model.fit()\n",
        "\n",
        "print(glm_results.summary())"
      ],
      "metadata": {
        "colab": {
          "base_uri": "https://localhost:8080/"
        },
        "id": "62_sZGsC9dNl",
        "outputId": "98a733bb-836e-452a-a6d8-4ab2b5bf88c8"
      },
      "execution_count": 9,
      "outputs": [
        {
          "output_type": "stream",
          "name": "stdout",
          "text": [
            "                 Generalized Linear Model Regression Results                  \n",
            "==============================================================================\n",
            "Dep. Variable:                   매출수량   No. Observations:               102676\n",
            "Model:                            GLM   Df Residuals:                   102666\n",
            "Model Family:                Gaussian   Df Model:                            9\n",
            "Link Function:               Identity   Scale:                          743.30\n",
            "Method:                          IRLS   Log-Likelihood:            -4.8509e+05\n",
            "Date:                Sun, 26 Oct 2025   Deviance:                   7.6312e+07\n",
            "Time:                        10:14:53   Pearson chi2:                 7.63e+07\n",
            "No. Iterations:                     3   Pseudo R-squ. (CS):             0.7435\n",
            "Covariance Type:            nonrobust                                         \n",
            "======================================================================================\n",
            "                         coef    std err          z      P>|z|      [0.025      0.975]\n",
            "--------------------------------------------------------------------------------------\n",
            "Intercept              9.9391      0.291     34.173      0.000       9.369      10.509\n",
            "C(요일)[T.Monday]       -3.1801      0.318     -9.986      0.000      -3.804      -2.556\n",
            "C(요일)[T.Saturday]      1.6013      0.318      5.029      0.000       0.977       2.225\n",
            "C(요일)[T.Sunday]       -0.0214      0.318     -0.067      0.946      -0.645       0.603\n",
            "C(요일)[T.Thursday]     -1.4344      0.318     -4.505      0.000      -2.058      -0.810\n",
            "C(요일)[T.Tuesday]      -2.5452      0.318     -7.993      0.000      -3.169      -1.921\n",
            "C(요일)[T.Wednesday]    -2.5590      0.318     -8.037      0.000      -3.183      -1.935\n",
            "C(cluster)[T.1]      332.7491      0.896    371.470      0.000     330.993     334.505\n",
            "C(cluster)[T.2]        1.9990      0.352      5.679      0.000       1.309       2.689\n",
            "월                     -0.3385      0.050     -6.797      0.000      -0.436      -0.241\n",
            "======================================================================================\n"
          ]
        }
      ]
    },
    {
      "cell_type": "markdown",
      "source": [
        "분석 결과, 매출수량은 요일, 클러스터, 월 변수에 따라 뚜렷한 차이를 보이는 것으로 나타났다. 특히 토요일의 회귀계수(1.6013)가 유의하게 양(+)의 값을 가지며, 이는 주말에 매출이 증가하는 경향을 의미한다. 반면 월요일(-3.1801), 화요일(-2.5452), 수요일(-2.5590), 목요일(-1.4344)은 모두 음(-)의 영향을 보여 평일 매출이 상대적으로 낮음을 알 수 있다.\n",
        "\n",
        "이러한 패턴은 실제 소비 행태에서 주말 외식·여가 수요 증가와 밀접하게 연관된 것으로 해석된다. 또한 요일별 유의확률(P>|z|)이 대부분 0.000으로 매우 낮아, 통계적으로도 요일이 매출 변동에 유의한 영향을 미친다고 볼 수 있다.\n",
        "\n",
        "한편 cluster 변수 중 ‘cluster 1’의 계수(332.7491)가 압도적으로 높게 나타났으며, 이는 특정 군집(매장군 혹은 메뉴군)이 전체 매출을 견인하고 있음을 의미한다.그리고 Pseudo R² = 0.7435로 높은 설명력을 보이며, 매출수량이 주말 중심, 특정 클러스터 중심으로 집중되는 구조적 특성을 보여준다."
      ],
      "metadata": {
        "id": "kdCWZJKQDcYF"
      }
    },
    {
      "cell_type": "markdown",
      "source": [
        "#5. sklearn 기반 회귀모델 3개 학습"
      ],
      "metadata": {
        "id": "JnSip--m9mWn"
      }
    },
    {
      "cell_type": "code",
      "source": [
        "# ===============================================\n",
        "# 회귀모델 학습 (Ridge, RandomForest, GradientBoosting)\n",
        "# ===============================================\n",
        "\n",
        "import pandas as pd\n",
        "import numpy as np\n",
        "from sklearn.model_selection import train_test_split\n",
        "from sklearn.preprocessing import StandardScaler\n",
        "from sklearn.linear_model import Ridge\n",
        "from sklearn.ensemble import RandomForestRegressor, GradientBoostingRegressor\n",
        "from sklearn.metrics import mean_absolute_error, mean_squared_error, r2_score\n",
        "\n",
        "# ----------------------------\n",
        "# 1. 데이터 준비\n",
        "# ----------------------------\n",
        "X = df[['월', '요일', 'cluster', '영업장명', '메뉴명']].copy()\n",
        "y = df['매출수량']\n",
        "\n",
        "# 더미 변수 변환\n",
        "X = pd.get_dummies(X, drop_first=True)\n",
        "\n",
        "# ----------------------------\n",
        "# 2. Train/Test 분할\n",
        "# ----------------------------\n",
        "X_train, X_test, y_train, y_test = train_test_split(\n",
        "    X, y, test_size=0.2, random_state=42\n",
        ")\n",
        "\n",
        "# ----------------------------\n",
        "# 3. 스케일링 (Ridge 전용)\n",
        "# ----------------------------\n",
        "scaler = StandardScaler()\n",
        "X_train_scaled = scaler.fit_transform(X_train)\n",
        "X_test_scaled = scaler.transform(X_test)\n",
        "\n",
        "# ----------------------------\n",
        "# 4. 모델 정의\n",
        "# ----------------------------\n",
        "models = {\n",
        "    \"Ridge\": Ridge(alpha=1.0, random_state=42),\n",
        "    \"RandomForest\": RandomForestRegressor(n_estimators=300, random_state=42),\n",
        "    \"GradientBoosting\": GradientBoostingRegressor(n_estimators=300, learning_rate=0.1, random_state=42)\n",
        "}\n",
        "\n",
        "# ----------------------------\n",
        "# 5. 학습 및 평가\n",
        "# ----------------------------\n",
        "results = []\n",
        "\n",
        "for name, model in models.items():\n",
        "    print(f\"\\n▶ {name} 모델 학습 시작\")\n",
        "\n",
        "    if name == \"Ridge\":\n",
        "        model.fit(X_train_scaled, y_train)\n",
        "        preds = model.predict(X_test_scaled)\n",
        "    else:\n",
        "        model.fit(X_train, y_train)\n",
        "        preds = model.predict(X_test)\n",
        "\n",
        "    # 평가 지표 계산 (버전 무관하게 안전하게)\n",
        "    mae = mean_absolute_error(y_test, preds)\n",
        "    rmse = mean_squared_error(y_test, preds) ** 0.5  # <-- 직접 제곱근 취해서 RMSE 계산\n",
        "    r2 = r2_score(y_test, preds)\n",
        "\n",
        "    results.append([name, mae, rmse, r2])\n",
        "\n",
        "# ----------------------------\n",
        "# 6. 결과 요약\n",
        "# ----------------------------\n",
        "results_df = pd.DataFrame(results, columns=[\"모델\", \"MAE\", \"RMSE\", \"R²\"])\n",
        "print(\"\\n[모델별 성능 비교]\")\n",
        "print(results_df)\n"
      ],
      "metadata": {
        "colab": {
          "base_uri": "https://localhost:8080/"
        },
        "id": "LlB_GcZI9pD5",
        "outputId": "a0a5c098-3dcf-44c6-b581-2a3784907f18"
      },
      "execution_count": 10,
      "outputs": [
        {
          "output_type": "stream",
          "name": "stdout",
          "text": [
            "\n",
            "▶ Ridge 모델 학습 시작\n",
            "\n",
            "▶ RandomForest 모델 학습 시작\n",
            "\n",
            "▶ GradientBoosting 모델 학습 시작\n",
            "\n",
            "[모델별 성능 비교]\n",
            "                 모델        MAE       RMSE        R²\n",
            "0             Ridge  14.380905  35.726113  0.213452\n",
            "1      RandomForest   5.969554  19.192514  0.773004\n",
            "2  GradientBoosting   7.903561  20.211208  0.748268\n"
          ]
        }
      ]
    },
    {
      "cell_type": "markdown",
      "source": [
        "모델별 성능 비교 결과를 보면, 비선형 트리 기반 모델(RandomForest, GradientBoosting) 이 선형모델(Ridge)에 비해 월등히 높은 예측 성능을 보였다.\n",
        "Ridge 모델의 R²는 0.213으로 설명력이 낮고 MAE와 RMSE도 상대적으로 큰 편이지만, RandomForest는 R² 0.773으로 매우 높은 설명력을 보이며 평균오차(MAE)도 5.97로 가장 낮다.\n",
        "\n",
        "이는 데이터 내 변수 간 비선형적 상호작용과 복잡한 패턴을 트리 모델이 효과적으로 포착했다는 것을 의미한다. GradientBoosting 역시 R² 0.748로 준수한 성능을 보이지만, RandomForest가 다소 더 안정적인 예측력을 보였다. 이러한 결과는 매출수량 예측에 있어 단순한 선형 관계보다는, 요일·클러스터·메뉴명·매장명 등 변수 간의 복합적 구조와 상호작용이 중요한 요인으로 작용한다."
      ],
      "metadata": {
        "id": "SiSQJ7M-JL43"
      }
    },
    {
      "cell_type": "markdown",
      "source": [
        "#6. Stacking - XGBoost"
      ],
      "metadata": {
        "id": "2L-zqKvA-WX1"
      }
    },
    {
      "cell_type": "code",
      "source": [
        "print(X_train.shape)"
      ],
      "metadata": {
        "colab": {
          "base_uri": "https://localhost:8080/"
        },
        "id": "hiVf9yuEUZPj",
        "outputId": "cd1e3f3f-15c7-4460-d40b-70bb9cee2210"
      },
      "execution_count": null,
      "outputs": [
        {
          "output_type": "stream",
          "name": "stdout",
          "text": [
            "(82140, 191)\n"
          ]
        }
      ]
    },
    {
      "cell_type": "code",
      "source": [
        "list(X_train.columns)"
      ],
      "metadata": {
        "colab": {
          "base_uri": "https://localhost:8080/"
        },
        "id": "Q-1sAHp8W6Af",
        "outputId": "f2d2dcf2-f1b8-47ef-f07b-bdc4803de50f"
      },
      "execution_count": null,
      "outputs": [
        {
          "output_type": "execute_result",
          "data": {
            "text/plain": [
              "['월',\n",
              " 'cluster',\n",
              " '요일_Monday',\n",
              " '요일_Saturday',\n",
              " '요일_Sunday',\n",
              " '요일_Thursday',\n",
              " '요일_Tuesday',\n",
              " '요일_Wednesday',\n",
              " '영업장명_담하',\n",
              " '영업장명_라그로타',\n",
              " '영업장명_미라시아',\n",
              " '영업장명_연회장',\n",
              " '영업장명_카페테리아',\n",
              " '영업장명_포레스트릿',\n",
              " '영업장명_화담숲주막',\n",
              " '영업장명_화담숲카페',\n",
              " '메뉴명_(단체) 생목살 김치전골 2.0',\n",
              " '메뉴명_(단체) 은이버섯 갈비탕',\n",
              " '메뉴명_(단체) 한우 우거지 국밥',\n",
              " '메뉴명_(단체) 황태해장국 3/27까지',\n",
              " '메뉴명_(단체)브런치주중 36,000',\n",
              " '메뉴명_(오븐) 하와이안 쉬림프 피자',\n",
              " '메뉴명_(정식) 된장찌개',\n",
              " '메뉴명_(정식) 물냉면 ',\n",
              " '메뉴명_(정식) 비빔냉면',\n",
              " '메뉴명_(화덕) 불고기 페퍼로니 반반피자',\n",
              " '메뉴명_(후식) 된장찌개',\n",
              " '메뉴명_(후식) 물냉면',\n",
              " '메뉴명_(후식) 비빔냉면',\n",
              " '메뉴명_1인 수저세트',\n",
              " '메뉴명_AUS (200g)',\n",
              " '메뉴명_BBQ Platter',\n",
              " '메뉴명_BBQ 고기추가',\n",
              " '메뉴명_BBQ55(단체)',\n",
              " '메뉴명_Cass Beer',\n",
              " '메뉴명_Conference L1',\n",
              " '메뉴명_Conference L2',\n",
              " '메뉴명_Conference L3',\n",
              " '메뉴명_Conference M1',\n",
              " '메뉴명_Conference M8',\n",
              " '메뉴명_Conference M9',\n",
              " '메뉴명_Convention Hall',\n",
              " '메뉴명_Cookie Platter',\n",
              " '메뉴명_G-Charge(3)',\n",
              " '메뉴명_Gls.Sileni',\n",
              " '메뉴명_Gls.미션 서드',\n",
              " '메뉴명_Grand Ballroom',\n",
              " '메뉴명_OPUS 2',\n",
              " '메뉴명_Open Food',\n",
              " '메뉴명_Regular Coffee',\n",
              " '메뉴명_갑오징어 비빔밥',\n",
              " '메뉴명_갱시기',\n",
              " '메뉴명_골뱅이무침',\n",
              " '메뉴명_공깃밥',\n",
              " '메뉴명_공깃밥(추가)',\n",
              " '메뉴명_구슬아이스크림',\n",
              " '메뉴명_그릴드 비프 샐러드',\n",
              " '메뉴명_글라스와인 (레드)',\n",
              " '메뉴명_까르보나라',\n",
              " '메뉴명_꼬막 비빔밥',\n",
              " '메뉴명_꼬치어묵',\n",
              " '메뉴명_느린마을 막걸리',\n",
              " '메뉴명_단체식 13000(신)',\n",
              " '메뉴명_단체식 18000(신)',\n",
              " '메뉴명_단호박 식혜 ',\n",
              " '메뉴명_담하 한우 불고기',\n",
              " '메뉴명_담하 한우 불고기 정식',\n",
              " '메뉴명_대여료 30,000원',\n",
              " '메뉴명_대여료 60,000원',\n",
              " '메뉴명_대여료 90,000원',\n",
              " '메뉴명_더덕 한우 지짐',\n",
              " '메뉴명_돈목살 김치찌개 (밥포함)',\n",
              " '메뉴명_돼지고기 김치찌개',\n",
              " '메뉴명_들깨 양지탕',\n",
              " '메뉴명_떡볶이',\n",
              " '메뉴명_라면사리',\n",
              " '메뉴명_레인보우칵테일(알코올)',\n",
              " '메뉴명_로제 치즈떡볶이',\n",
              " '메뉴명_룸 이용료',\n",
              " '메뉴명_마라샹궈',\n",
              " '메뉴명_매콤 무뼈닭발&계란찜',\n",
              " '메뉴명_메밀면 사리',\n",
              " '메뉴명_메밀미숫가루',\n",
              " '메뉴명_명인안동소주',\n",
              " '메뉴명_명태회 비빔냉면',\n",
              " '메뉴명_모둠 돈육구이(3인)',\n",
              " '메뉴명_모둠 해산물 플래터',\n",
              " '메뉴명_문막 복분자 칵테일',\n",
              " '메뉴명_미라시아 브런치 (패키지)',\n",
              " '메뉴명_미션 서드 카베르네 쉬라',\n",
              " '메뉴명_버드와이저(무제한)',\n",
              " '메뉴명_버섯 크림 리조또',\n",
              " '메뉴명_병천순대',\n",
              " '메뉴명_보일링 랍스타 플래터',\n",
              " '메뉴명_보일링 랍스타 플래터(덜매운맛)',\n",
              " '메뉴명_복숭아 아이스티',\n",
              " '메뉴명_본삼겹 (단품,실내)',\n",
              " '메뉴명_봉평메밀 물냉면',\n",
              " '메뉴명_브런치 2인 패키지 ',\n",
              " '메뉴명_브런치 4인 패키지 ',\n",
              " '메뉴명_브런치(대인) 주말',\n",
              " '메뉴명_브런치(대인) 주중',\n",
              " '메뉴명_브런치(어린이)',\n",
              " '메뉴명_빵 추가 (1인)',\n",
              " '메뉴명_삼겹살추가 (200g)',\n",
              " '메뉴명_새우 볶음밥',\n",
              " '메뉴명_새우튀김 우동',\n",
              " '메뉴명_생목살 김치찌개',\n",
              " '메뉴명_생수',\n",
              " '메뉴명_샷 추가',\n",
              " '메뉴명_수제 등심 돈까스',\n",
              " '메뉴명_쉬림프 투움바 파스타',\n",
              " '메뉴명_스텔라(무제한)',\n",
              " '메뉴명_스프라이트',\n",
              " '메뉴명_스프라이트 (단체)',\n",
              " '메뉴명_시저 샐러드 ',\n",
              " '메뉴명_신라면',\n",
              " '메뉴명_쌈야채세트',\n",
              " '메뉴명_쌈장',\n",
              " '메뉴명_아메리카노',\n",
              " '메뉴명_아메리카노 HOT',\n",
              " '메뉴명_아메리카노 ICE',\n",
              " '메뉴명_아메리카노(HOT)',\n",
              " '메뉴명_아메리카노(ICE)',\n",
              " '메뉴명_알리오 에 올리오 ',\n",
              " '메뉴명_애플망고 에이드',\n",
              " '메뉴명_야채추가',\n",
              " '메뉴명_약 고추장 돌솥비빔밥',\n",
              " '메뉴명_양갈비 (4ps)',\n",
              " '메뉴명_어린이 돈까스',\n",
              " '메뉴명_얼그레이 하이볼',\n",
              " '메뉴명_오븐구이 윙과 킬바사소세지',\n",
              " '메뉴명_오픈푸드',\n",
              " '메뉴명_왕갈비치킨',\n",
              " '메뉴명_유자 하이볼',\n",
              " '메뉴명_육개장 사발면',\n",
              " '메뉴명_은이버섯 갈비탕',\n",
              " '메뉴명_일회용 소주컵',\n",
              " '메뉴명_일회용 종이컵',\n",
              " '메뉴명_자몽리치에이드',\n",
              " '메뉴명_잔디그늘집 대여료 (12인석)',\n",
              " '메뉴명_잔디그늘집 대여료 (6인석)',\n",
              " '메뉴명_잔디그늘집 의자 추가',\n",
              " '메뉴명_잭 애플 토닉',\n",
              " '메뉴명_제로콜라',\n",
              " '메뉴명_주먹밥 (2ea)',\n",
              " '메뉴명_진사골 설렁탕',\n",
              " '메뉴명_짜장면',\n",
              " '메뉴명_짜장밥',\n",
              " '메뉴명_짬뽕',\n",
              " '메뉴명_짬뽕밥',\n",
              " '메뉴명_참살이 막걸리',\n",
              " '메뉴명_참이슬',\n",
              " '메뉴명_참이슬 (단체)',\n",
              " '메뉴명_찹쌀식혜',\n",
              " '메뉴명_처음처럼',\n",
              " '메뉴명_치즈 핫도그',\n",
              " '메뉴명_치즈돈까스',\n",
              " '메뉴명_친환경 접시 14cm',\n",
              " '메뉴명_친환경 접시 23cm',\n",
              " '메뉴명_칠리 치즈 프라이',\n",
              " '메뉴명_카스',\n",
              " '메뉴명_카스 병(단체)',\n",
              " '메뉴명_카페라떼 ICE',\n",
              " '메뉴명_카페라떼(HOT)',\n",
              " '메뉴명_카페라떼(ICE)',\n",
              " '메뉴명_코카콜라',\n",
              " '메뉴명_코카콜라(제로)',\n",
              " '메뉴명_콜라',\n",
              " '메뉴명_콜라 (단체)',\n",
              " '메뉴명_콥 샐러드',\n",
              " '메뉴명_테라',\n",
              " '메뉴명_파스타면 추가(150g)',\n",
              " '메뉴명_페스츄리 소시지',\n",
              " '메뉴명_핑크레몬에이드',\n",
              " '메뉴명_하동 매실 칵테일',\n",
              " '메뉴명_하이네켄(생)',\n",
              " '메뉴명_한상 삼겹구이 정식(2인) 소요시간 약 15~20분',\n",
              " '메뉴명_한우 (200g)',\n",
              " '메뉴명_한우 떡갈비 정식',\n",
              " '메뉴명_한우 미역국 정식',\n",
              " '메뉴명_한우 우거지 국밥',\n",
              " '메뉴명_한우 차돌박이 된장찌개',\n",
              " '메뉴명_해물파전',\n",
              " '메뉴명_해산물 토마토 리조또',\n",
              " '메뉴명_해산물 토마토 스튜 파스타',\n",
              " '메뉴명_해산물 토마토 스파게티',\n",
              " '메뉴명_햇반',\n",
              " '메뉴명_허브솔트',\n",
              " '메뉴명_현미뻥스크림',\n",
              " '메뉴명_황태해장국']"
            ]
          },
          "metadata": {},
          "execution_count": 25
        }
      ]
    },
    {
      "cell_type": "code",
      "source": [
        "# --------------------------------------------\n",
        "# 컬럼명 정제 (특수문자 제거)\n",
        "# --------------------------------------------\n",
        "def clean_columns(df):\n",
        "    df.columns = (\n",
        "        df.columns\n",
        "        .str.replace(r'[\\s\\(\\)\\[\\]\\{\\}~!@#$%^&*+=/\\\\:;\\\"\\'<>?,.|]', '_', regex=True)\n",
        "        .str.replace(r'_+', '_', regex=True)\n",
        "        .str.strip('_')\n",
        "    )\n",
        "    return df\n",
        "\n",
        "X_train = clean_columns(X_train)\n",
        "X_test = clean_columns(X_test)\n",
        "\n",
        "# --------------------------------------------\n",
        "# 🔹 중복 컬럼 제거 (가장 안전한 방법)\n",
        "# --------------------------------------------\n",
        "dup_cols = X_train.columns[X_train.columns.duplicated()]\n",
        "if len(dup_cols) > 0:\n",
        "    print(f\"중복 컬럼 {len(dup_cols)}개 발견 → 제거 진행\")\n",
        "    X_train = X_train.loc[:, ~X_train.columns.duplicated()]\n",
        "    X_test = X_test.loc[:, ~X_test.columns.duplicated()]\n",
        "else:\n",
        "    print(\"중복 컬럼 없음\")\n"
      ],
      "metadata": {
        "colab": {
          "base_uri": "https://localhost:8080/"
        },
        "id": "4L4MJuAdXxmY",
        "outputId": "b945e2cd-bbad-4910-fe15-d8dfb087c158"
      },
      "execution_count": 11,
      "outputs": [
        {
          "output_type": "stream",
          "name": "stdout",
          "text": [
            "중복 컬럼 3개 발견 → 제거 진행\n"
          ]
        }
      ]
    },
    {
      "cell_type": "code",
      "source": [
        "# ===============================================\n",
        "# LightGBM 기반 Stacking 모델 학습\n",
        "# ===============================================\n",
        "\n",
        "from sklearn.ensemble import RandomForestRegressor, GradientBoostingRegressor, StackingRegressor\n",
        "from lightgbm import LGBMRegressor\n",
        "from sklearn.metrics import mean_absolute_error, mean_squared_error, r2_score\n",
        "import matplotlib.pyplot as plt\n",
        "import pandas as pd\n",
        "\n",
        "# 1차 LightGBM으로 피처 중요도 산출\n",
        "print(\"▶ 1차 LightGBM 학습 중 (피처 중요도 산출)...\")\n",
        "\n",
        "temp_model = LGBMRegressor(\n",
        "    n_estimators=100,\n",
        "    learning_rate=0.1,\n",
        "    num_leaves=31,\n",
        "    subsample=0.8,\n",
        "    colsample_bytree=0.8,\n",
        "    random_state=42,\n",
        "    n_jobs=-1\n",
        ")\n",
        "temp_model.fit(X_train, y_train)\n",
        "\n",
        "feat_imp = pd.DataFrame({\n",
        "    'feature': X_train.columns,\n",
        "    'importance': temp_model.feature_importances_\n",
        "}).sort_values(by='importance', ascending=False)\n",
        "\n",
        "# 중요도 하위 30% 제거\n",
        "threshold = int(len(feat_imp) * 0.3)\n",
        "low_features = feat_imp.tail(threshold)['feature'].tolist()\n",
        "\n",
        "X_train_reduced = X_train.drop(columns=low_features)\n",
        "X_test_reduced = X_test.drop(columns=low_features)\n",
        "\n",
        "print(f\"제거된 피처 수: {len(low_features)}개\")\n",
        "print(f\"최종 피처 수: {X_train_reduced.shape[1]}개\")\n",
        "\n",
        "# Base 모델 (RandomForest + GradientBoosting)\n",
        "base_models = [\n",
        "    ('rf', RandomForestRegressor(n_estimators=100, random_state=42, n_jobs=-1)),\n",
        "    ('gb', GradientBoostingRegressor(n_estimators=100, learning_rate=0.1, random_state=42))\n",
        "]\n",
        "\n",
        "# Meta 모델 (LightGBM)\n",
        "meta_model = LGBMRegressor(\n",
        "    n_estimators=80,\n",
        "    learning_rate=0.15,\n",
        "    num_leaves=31,\n",
        "    subsample=0.8,\n",
        "    colsample_bytree=0.8,\n",
        "    random_state=42,\n",
        "    n_jobs=-1\n",
        ")\n",
        "\n",
        "# Stacking 구성\n",
        "stack_model = StackingRegressor(\n",
        "    estimators=base_models,\n",
        "    final_estimator=meta_model,\n",
        "    passthrough=False,\n",
        "    n_jobs=-1\n",
        ")\n",
        "\n",
        "# 학습 및 예측\n",
        "print(\"\\n▶ LightGBM 기반 Stacking 모델 학습 중...\")\n",
        "stack_model.fit(X_train_reduced, y_train)\n",
        "stack_preds = stack_model.predict(X_test_reduced)\n",
        "\n",
        "# 성능 평가\n",
        "mae = mean_absolute_error(y_test, stack_preds)\n",
        "rmse = mean_squared_error(y_test, stack_preds) ** 0.5\n",
        "r2 = r2_score(y_test, stack_preds)\n",
        "\n",
        "print(\"\\n[LightGBM Stacking 결과]\")\n",
        "print(f\"MAE : {mae:.4f}\")\n",
        "print(f\"RMSE: {rmse:.4f}\")\n",
        "print(f\"R²  : {r2:.4f}\")"
      ],
      "metadata": {
        "colab": {
          "base_uri": "https://localhost:8080/"
        },
        "id": "rlVFvhdE-Ypb",
        "outputId": "d773daa2-7511-44df-f52c-f9f6acb943db"
      },
      "execution_count": 12,
      "outputs": [
        {
          "output_type": "stream",
          "name": "stdout",
          "text": [
            "▶ 1차 LightGBM 학습 중 (피처 중요도 산출)...\n",
            "[LightGBM] [Info] Auto-choosing col-wise multi-threading, the overhead of testing was 0.004959 seconds.\n",
            "You can set `force_col_wise=true` to remove the overhead.\n",
            "[LightGBM] [Info] Total Bins 388\n",
            "[LightGBM] [Info] Number of data points in the train set: 82140, number of used features: 188\n",
            "[LightGBM] [Info] Start training from score 10.676406\n",
            "제거된 피처 수: 56개\n",
            "최종 피처 수: 132개\n",
            "\n",
            "▶ LightGBM 기반 Stacking 모델 학습 중...\n",
            "[LightGBM] [Info] Auto-choosing col-wise multi-threading, the overhead of testing was 0.002319 seconds.\n",
            "You can set `force_col_wise=true` to remove the overhead.\n",
            "[LightGBM] [Info] Total Bins 510\n",
            "[LightGBM] [Info] Number of data points in the train set: 82140, number of used features: 2\n",
            "[LightGBM] [Info] Start training from score 10.676406\n",
            "\n",
            "[LightGBM Stacking 결과]\n",
            "MAE : 6.3036\n",
            "RMSE: 18.7383\n",
            "R²  : 0.7836\n"
          ]
        },
        {
          "output_type": "stream",
          "name": "stderr",
          "text": [
            "/usr/local/lib/python3.12/dist-packages/sklearn/utils/validation.py:2739: UserWarning: X does not have valid feature names, but LGBMRegressor was fitted with feature names\n",
            "  warnings.warn(\n"
          ]
        }
      ]
    },
    {
      "cell_type": "markdown",
      "source": [
        "LightGBM 기반 스태킹 결과, R²는 0.7836으로 전체 매출수량 변동의 약 78%를 설명하고 있다. MAE(평균 절대 오차)는 6.30, RMSE(평균 제곱근 오차)는 18.74로 낮은 편이다. LightGBM이 메타모델로 사용하며 베이스 모델들의 장점을 효과적으로 결합해 과적합을 줄이고, 데이터의 비선형적 관계를 정교하게 반영한 것으로 해석된다.\n",
        "\n",
        "또한 학습 과정에서 중복 피처 3개 제거 및 중요도 하위 30% 피처 56개 제거 후 132개 주요 변수만 사용했음에도 성능이 향상된 점은, 불필요한 변수를 줄이는 것이 오히려 모델의 안정성과 해석력을 높였다."
      ],
      "metadata": {
        "id": "1pqQVOnyJgW8"
      }
    },
    {
      "cell_type": "markdown",
      "source": [
        "#7. Feature Importance (예측 중요도)"
      ],
      "metadata": {
        "id": "wxDhbQDF_P9a"
      }
    },
    {
      "cell_type": "code",
      "source": [
        "# ===============================================\n",
        "# LightGBM 단일모델 Feature Importance (y값에 대한 변수 중요도)\n",
        "# ===============================================\n",
        "\n",
        "from lightgbm import LGBMRegressor\n",
        "import pandas as pd\n",
        "import matplotlib.pyplot as plt\n",
        "import seaborn as sns\n",
        "\n",
        "# LightGBM 단일모델 재학습\n",
        "lgb_model = LGBMRegressor(\n",
        "    n_estimators=300,\n",
        "    learning_rate=0.08,\n",
        "    num_leaves=31,\n",
        "    subsample=0.8,\n",
        "    colsample_bytree=0.8,\n",
        "    random_state=42,\n",
        "    n_jobs=-1\n",
        ")\n",
        "\n",
        "lgb_model.fit(X_train_reduced, y_train)\n",
        "\n",
        "# Feature Importance 추출\n",
        "feat_imp = pd.DataFrame({\n",
        "    'Feature': X_train_reduced.columns,\n",
        "    'Importance': lgb_model.feature_importances_\n",
        "}).sort_values(by='Importance', ascending=False)\n",
        "\n",
        "# 시각화\n",
        "plt.figure(figsize=(10,8))\n",
        "sns.barplot(data=feat_imp.head(20), x='Importance', y='Feature', palette='viridis')\n",
        "plt.title(\"LightGBM Feature Importance (Top 20)\")\n",
        "plt.xlabel(\"Importance\")\n",
        "plt.ylabel(\"Feature\")\n",
        "plt.tight_layout()\n",
        "plt.show()\n",
        "\n",
        "# 전체 중요도 표 확인\n",
        "display(feat_imp)\n"
      ],
      "metadata": {
        "colab": {
          "base_uri": "https://localhost:8080/",
          "height": 1000
        },
        "id": "mlWvSy81_Uvq",
        "outputId": "4dac6588-7f5b-4a03-d4fe-f87798b3b026"
      },
      "execution_count": 17,
      "outputs": [
        {
          "output_type": "stream",
          "name": "stdout",
          "text": [
            "[LightGBM] [Info] Auto-choosing col-wise multi-threading, the overhead of testing was 0.011875 seconds.\n",
            "You can set `force_col_wise=true` to remove the overhead.\n",
            "[LightGBM] [Info] Total Bins 276\n",
            "[LightGBM] [Info] Number of data points in the train set: 82140, number of used features: 132\n",
            "[LightGBM] [Info] Start training from score 10.676406\n"
          ]
        },
        {
          "output_type": "stream",
          "name": "stderr",
          "text": [
            "/tmp/ipython-input-3036408015.py:31: FutureWarning: \n",
            "\n",
            "Passing `palette` without assigning `hue` is deprecated and will be removed in v0.14.0. Assign the `y` variable to `hue` and set `legend=False` for the same effect.\n",
            "\n",
            "  sns.barplot(data=feat_imp.head(20), x='Importance', y='Feature', palette='viridis')\n"
          ]
        },
        {
          "output_type": "display_data",
          "data": {
            "text/plain": [
              "<Figure size 1000x800 with 1 Axes>"
            ],
            "image/png": "[encoded data removed]"
          },
          "metadata": {}
        },
        {
          "output_type": "display_data",
          "data": {
            "text/plain": [
              "          Feature  Importance\n",
              "0               월        2585\n",
              "1         cluster         628\n",
              "3     요일_Saturday         517\n",
              "4       요일_Sunday         445\n",
              "2       요일_Monday         223\n",
              "..            ...         ...\n",
              "50   메뉴명_갑오징어_비빔밥           0\n",
              "48  메뉴명_Open_Food           0\n",
              "99  메뉴명_알리오_에_올리오           0\n",
              "94     메뉴명_시저_샐러드           0\n",
              "95      메뉴명_쌈야채세트           0\n",
              "\n",
              "[132 rows x 2 columns]"
            ],
            "text/html": [
              "\n",
              "  <div id=\"df-b07ebdd8-e37f-4fbe-b009-28ad4fe55e63\" class=\"colab-df-container\">\n",
              "    <div>\n",
              "<style scoped>\n",
              "    .dataframe tbody tr th:only-of-type {\n",
              "        vertical-align: middle;\n",
              "    }\n",
              "\n",
              "    .dataframe tbody tr th {\n",
              "        vertical-align: top;\n",
              "    }\n",
              "\n",
              "    .dataframe thead th {\n",
              "        text-align: right;\n",
              "    }\n",
              "</style>\n",
              "<table border=\"1\" class=\"dataframe\">\n",
              "  <thead>\n",
              "    <tr style=\"text-align: right;\">\n",
              "      <th></th>\n",
              "      <th>Feature</th>\n",
              "      <th>Importance</th>\n",
              "    </tr>\n",
              "  </thead>\n",
              "  <tbody>\n",
              "    <tr>\n",
              "      <th>0</th>\n",
              "      <td>월</td>\n",
              "      <td>2585</td>\n",
              "    </tr>\n",
              "    <tr>\n",
              "      <th>1</th>\n",
              "      <td>cluster</td>\n",
              "      <td>628</td>\n",
              "    </tr>\n",
              "    <tr>\n",
              "      <th>3</th>\n",
              "      <td>요일_Saturday</td>\n",
              "      <td>517</td>\n",
              "    </tr>\n",
              "    <tr>\n",
              "      <th>4</th>\n",
              "      <td>요일_Sunday</td>\n",
              "      <td>445</td>\n",
              "    </tr>\n",
              "    <tr>\n",
              "      <th>2</th>\n",
              "      <td>요일_Monday</td>\n",
              "      <td>223</td>\n",
              "    </tr>\n",
              "    <tr>\n",
              "      <th>...</th>\n",
              "      <td>...</td>\n",
              "      <td>...</td>\n",
              "    </tr>\n",
              "    <tr>\n",
              "      <th>50</th>\n",
              "      <td>메뉴명_갑오징어_비빔밥</td>\n",
              "      <td>0</td>\n",
              "    </tr>\n",
              "    <tr>\n",
              "      <th>48</th>\n",
              "      <td>메뉴명_Open_Food</td>\n",
              "      <td>0</td>\n",
              "    </tr>\n",
              "    <tr>\n",
              "      <th>99</th>\n",
              "      <td>메뉴명_알리오_에_올리오</td>\n",
              "      <td>0</td>\n",
              "    </tr>\n",
              "    <tr>\n",
              "      <th>94</th>\n",
              "      <td>메뉴명_시저_샐러드</td>\n",
              "      <td>0</td>\n",
              "    </tr>\n",
              "    <tr>\n",
              "      <th>95</th>\n",
              "      <td>메뉴명_쌈야채세트</td>\n",
              "      <td>0</td>\n",
              "    </tr>\n",
              "  </tbody>\n",
              "</table>\n",
              "<p>132 rows × 2 columns</p>\n",
              "</div>\n",
              "    <div class=\"colab-df-buttons\">\n",
              "\n",
              "  <div class=\"colab-df-container\">\n",
              "    <button class=\"colab-df-convert\" onclick=\"convertToInteractive('df-b07ebdd8-e37f-4fbe-b009-28ad4fe55e63')\"\n",
              "            title=\"Convert this dataframe to an interactive table.\"\n",
              "            style=\"display:none;\">\n",
              "\n",
              "  <svg xmlns=\"http://www.w3.org/2000/svg\" height=\"24px\" viewBox=\"0 -960 960 960\">\n",
              "    <path d=\"M120-120v-720h720v720H120Zm60-500h600v-160H180v160Zm220 220h160v-160H400v160Zm0 220h160v-160H400v160ZM180-400h160v-160H180v160Zm440 0h160v-160H620v160ZM180-180h160v-160H180v160Zm440 0h160v-160H620v160Z\"/>\n",
              "  </svg>\n",
              "    </button>\n",
              "\n",
              "  <style>\n",
              "    .colab-df-container {\n",
              "      display:flex;\n",
              "      gap: 12px;\n",
              "    }\n",
              "\n",
              "    .colab-df-convert {\n",
              "      background-color: #E8F0FE;\n",
              "      border: none;\n",
              "      border-radius: 50%;\n",
              "      cursor: pointer;\n",
              "      display: none;\n",
              "      fill: #1967D2;\n",
              "      height: 32px;\n",
              "      padding: 0 0 0 0;\n",
              "      width: 32px;\n",
              "    }\n",
              "\n",
              "    .colab-df-convert:hover {\n",
              "      background-color: #E2EBFA;\n",
              "      box-shadow: 0px 1px 2px rgba(60, 64, 67, 0.3), 0px 1px 3px 1px rgba(60, 64, 67, 0.15);\n",
              "      fill: #174EA6;\n",
              "    }\n",
              "\n",
              "    .colab-df-buttons div {\n",
              "      margin-bottom: 4px;\n",
              "    }\n",
              "\n",
              "    [theme=dark] .colab-df-convert {\n",
              "      background-color: #3B4455;\n",
              "      fill: #D2E3FC;\n",
              "    }\n",
              "\n",
              "    [theme=dark] .colab-df-convert:hover {\n",
              "      background-color: #434B5C;\n",
              "      box-shadow: 0px 1px 3px 1px rgba(0, 0, 0, 0.15);\n",
              "      filter: drop-shadow(0px 1px 2px rgba(0, 0, 0, 0.3));\n",
              "      fill: #FFFFFF;\n",
              "    }\n",
              "  </style>\n",
              "\n",
              "    <script>\n",
              "      const buttonEl =\n",
              "        document.querySelector('#df-b07ebdd8-e37f-4fbe-b009-28ad4fe55e63 button.colab-df-convert');\n",
              "      buttonEl.style.display =\n",
              "        google.colab.kernel.accessAllowed ? 'block' : 'none';\n",
              "\n",
              "      async function convertToInteractive(key) {\n",
              "        const element = document.querySelector('#df-b07ebdd8-e37f-4fbe-b009-28ad4fe55e63');\n",
              "        const dataTable =\n",
              "          await google.colab.kernel.invokeFunction('convertToInteractive',\n",
              "                                                    [key], {});\n",
              "        if (!dataTable) return;\n",
              "\n",
              "        const docLinkHtml = 'Like what you see? Visit the ' +\n",
              "          '<a target=\"_blank\" href=https://colab.research.google.com/notebooks/data_table.ipynb>data table notebook</a>'\n",
              "          + ' to learn more about interactive tables.';\n",
              "        element.innerHTML = '';\n",
              "        dataTable['output_type'] = 'display_data';\n",
              "        await google.colab.output.renderOutput(dataTable, element);\n",
              "        const docLink = document.createElement('div');\n",
              "        docLink.innerHTML = docLinkHtml;\n",
              "        element.appendChild(docLink);\n",
              "      }\n",
              "    </script>\n",
              "  </div>\n",
              "\n",
              "\n",
              "    <div id=\"df-2b8a22c7-ff1d-49b0-8fc8-dac8f83aadff\">\n",
              "      <button class=\"colab-df-quickchart\" onclick=\"quickchart('df-2b8a22c7-ff1d-49b0-8fc8-dac8f83aadff')\"\n",
              "                title=\"Suggest charts\"\n",
              "                style=\"display:none;\">\n",
              "\n",
              "<svg xmlns=\"http://www.w3.org/2000/svg\" height=\"24px\"viewBox=\"0 0 24 24\"\n",
              "     width=\"24px\">\n",
              "    <g>\n",
              "        <path d=\"M19 3H5c-1.1 0-2 .9-2 2v14c0 1.1.9 2 2 2h14c1.1 0 2-.9 2-2V5c0-1.1-.9-2-2-2zM9 17H7v-7h2v7zm4 0h-2V7h2v10zm4 0h-2v-4h2v4z\"/>\n",
              "    </g>\n",
              "</svg>\n",
              "      </button>\n",
              "\n",
              "<style>\n",
              "  .colab-df-quickchart {\n",
              "      --bg-color: #E8F0FE;\n",
              "      --fill-color: #1967D2;\n",
              "      --hover-bg-color: #E2EBFA;\n",
              "      --hover-fill-color: #174EA6;\n",
              "      --disabled-fill-color: #AAA;\n",
              "      --disabled-bg-color: #DDD;\n",
              "  }\n",
              "\n",
              "  [theme=dark] .colab-df-quickchart {\n",
              "      --bg-color: #3B4455;\n",
              "      --fill-color: #D2E3FC;\n",
              "      --hover-bg-color: #434B5C;\n",
              "      --hover-fill-color: #FFFFFF;\n",
              "      --disabled-bg-color: #3B4455;\n",
              "      --disabled-fill-color: #666;\n",
              "  }\n",
              "\n",
              "  .colab-df-quickchart {\n",
              "    background-color: var(--bg-color);\n",
              "    border: none;\n",
              "    border-radius: 50%;\n",
              "    cursor: pointer;\n",
              "    display: none;\n",
              "    fill: var(--fill-color);\n",
              "    height: 32px;\n",
              "    padding: 0;\n",
              "    width: 32px;\n",
              "  }\n",
              "\n",
              "  .colab-df-quickchart:hover {\n",
              "    background-color: var(--hover-bg-color);\n",
              "    box-shadow: 0 1px 2px rgba(60, 64, 67, 0.3), 0 1px 3px 1px rgba(60, 64, 67, 0.15);\n",
              "    fill: var(--button-hover-fill-color);\n",
              "  }\n",
              "\n",
              "  .colab-df-quickchart-complete:disabled,\n",
              "  .colab-df-quickchart-complete:disabled:hover {\n",
              "    background-color: var(--disabled-bg-color);\n",
              "    fill: var(--disabled-fill-color);\n",
              "    box-shadow: none;\n",
              "  }\n",
              "\n",
              "  .colab-df-spinner {\n",
              "    border: 2px solid var(--fill-color);\n",
              "    border-color: transparent;\n",
              "    border-bottom-color: var(--fill-color);\n",
              "    animation:\n",
              "      spin 1s steps(1) infinite;\n",
              "  }\n",
              "\n",
              "  @keyframes spin {\n",
              "    0% {\n",
              "      border-color: transparent;\n",
              "      border-bottom-color: var(--fill-color);\n",
              "      border-left-color: var(--fill-color);\n",
              "    }\n",
              "    20% {\n",
              "      border-color: transparent;\n",
              "      border-left-color: var(--fill-color);\n",
              "      border-top-color: var(--fill-color);\n",
              "    }\n",
              "    30% {\n",
              "      border-color: transparent;\n",
              "      border-left-color: var(--fill-color);\n",
              "      border-top-color: var(--fill-color);\n",
              "      border-right-color: var(--fill-color);\n",
              "    }\n",
              "    40% {\n",
              "      border-color: transparent;\n",
              "      border-right-color: var(--fill-color);\n",
              "      border-top-color: var(--fill-color);\n",
              "    }\n",
              "    60% {\n",
              "      border-color: transparent;\n",
              "      border-right-color: var(--fill-color);\n",
              "    }\n",
              "    80% {\n",
              "      border-color: transparent;\n",
              "      border-right-color: var(--fill-color);\n",
              "      border-bottom-color: var(--fill-color);\n",
              "    }\n",
              "    90% {\n",
              "      border-color: transparent;\n",
              "      border-bottom-color: var(--fill-color);\n",
              "    }\n",
              "  }\n",
              "</style>\n",
              "\n",
              "      <script>\n",
              "        async function quickchart(key) {\n",
              "          const quickchartButtonEl =\n",
              "            document.querySelector('#' + key + ' button');\n",
              "          quickchartButtonEl.disabled = true;  // To prevent multiple clicks.\n",
              "          quickchartButtonEl.classList.add('colab-df-spinner');\n",
              "          try {\n",
              "            const charts = await google.colab.kernel.invokeFunction(\n",
              "                'suggestCharts', [key], {});\n",
              "          } catch (error) {\n",
              "            console.error('Error during call to suggestCharts:', error);\n",
              "          }\n",
              "          quickchartButtonEl.classList.remove('colab-df-spinner');\n",
              "          quickchartButtonEl.classList.add('colab-df-quickchart-complete');\n",
              "        }\n",
              "        (() => {\n",
              "          let quickchartButtonEl =\n",
              "            document.querySelector('#df-2b8a22c7-ff1d-49b0-8fc8-dac8f83aadff button');\n",
              "          quickchartButtonEl.style.display =\n",
              "            google.colab.kernel.accessAllowed ? 'block' : 'none';\n",
              "        })();\n",
              "      </script>\n",
              "    </div>\n",
              "\n",
              "  <div id=\"id_af327d9e-5d8b-4d11-80da-dca4f3f6868b\">\n",
              "    <style>\n",
              "      .colab-df-generate {\n",
              "        background-color: #E8F0FE;\n",
              "        border: none;\n",
              "        border-radius: 50%;\n",
              "        cursor: pointer;\n",
              "        display: none;\n",
              "        fill: #1967D2;\n",
              "        height: 32px;\n",
              "        padding: 0 0 0 0;\n",
              "        width: 32px;\n",
              "      }\n",
              "\n",
              "      .colab-df-generate:hover {\n",
              "        background-color: #E2EBFA;\n",
              "        box-shadow: 0px 1px 2px rgba(60, 64, 67, 0.3), 0px 1px 3px 1px rgba(60, 64, 67, 0.15);\n",
              "        fill: #174EA6;\n",
              "      }\n",
              "\n",
              "      [theme=dark] .colab-df-generate {\n",
              "        background-color: #3B4455;\n",
              "        fill: #D2E3FC;\n",
              "      }\n",
              "\n",
              "      [theme=dark] .colab-df-generate:hover {\n",
              "        background-color: #434B5C;\n",
              "        box-shadow: 0px 1px 3px 1px rgba(0, 0, 0, 0.15);\n",
              "        filter: drop-shadow(0px 1px 2px rgba(0, 0, 0, 0.3));\n",
              "        fill: #FFFFFF;\n",
              "      }\n",
              "    </style>\n",
              "    <button class=\"colab-df-generate\" onclick=\"generateWithVariable('feat_imp')\"\n",
              "            title=\"Generate code using this dataframe.\"\n",
              "            style=\"display:none;\">\n",
              "\n",
              "  <svg xmlns=\"http://www.w3.org/2000/svg\" height=\"24px\"viewBox=\"0 0 24 24\"\n",
              "       width=\"24px\">\n",
              "    <path d=\"M7,19H8.4L18.45,9,17,7.55,7,17.6ZM5,21V16.75L18.45,3.32a2,2,0,0,1,2.83,0l1.4,1.43a1.91,1.91,0,0,1,.58,1.4,1.91,1.91,0,0,1-.58,1.4L9.25,21ZM18.45,9,17,7.55Zm-12,3A5.31,5.31,0,0,0,4.9,8.1,5.31,5.31,0,0,0,1,6.5,5.31,5.31,0,0,0,4.9,4.9,5.31,5.31,0,0,0,6.5,1,5.31,5.31,0,0,0,8.1,4.9,5.31,5.31,0,0,0,12,6.5,5.46,5.46,0,0,0,6.5,12Z\"/>\n",
              "  </svg>\n",
              "    </button>\n",
              "    <script>\n",
              "      (() => {\n",
              "      const buttonEl =\n",
              "        document.querySelector('#id_af327d9e-5d8b-4d11-80da-dca4f3f6868b button.colab-df-generate');\n",
              "      buttonEl.style.display =\n",
              "        google.colab.kernel.accessAllowed ? 'block' : 'none';\n",
              "\n",
              "      buttonEl.onclick = () => {\n",
              "        google.colab.notebook.generateWithVariable('feat_imp');\n",
              "      }\n",
              "      })();\n",
              "    </script>\n",
              "  </div>\n",
              "\n",
              "    </div>\n",
              "  </div>\n"
            ],
            "application/vnd.google.colaboratory.intrinsic+json": {
              "type": "dataframe",
              "variable_name": "feat_imp",
              "summary": "{\n  \"name\": \"feat_imp\",\n  \"rows\": 132,\n  \"fields\": [\n    {\n      \"column\": \"Feature\",\n      \"properties\": {\n        \"dtype\": \"string\",\n        \"num_unique_values\": 132,\n        \"samples\": [\n          \"\\uba54\\ub274\\uba85_\\ub2e8\\uccb4_\\uc0dd\\ubaa9\\uc0b4_\\uae40\\uce58\\uc804\\uace8_2_0\",\n          \"\\uba54\\ub274\\uba85_\\uad6c\\uc2ac\\uc544\\uc774\\uc2a4\\ud06c\\ub9bc\",\n          \"\\uba54\\ub274\\uba85_\\uce58\\uc988_\\ud56b\\ub3c4\\uadf8\"\n        ],\n        \"semantic_type\": \"\",\n        \"description\": \"\"\n      }\n    },\n    {\n      \"column\": \"Importance\",\n      \"properties\": {\n        \"dtype\": \"int32\",\n        \"num_unique_values\": 67,\n        \"samples\": [\n          36,\n          93,\n          223\n        ],\n        \"semantic_type\": \"\",\n        \"description\": \"\"\n      }\n    }\n  ]\n}"
            }
          },
          "metadata": {}
        }
      ]
    },
    {
      "cell_type": "markdown",
      "source": [
        "해당 LightGBM 변수 중요도 그래프를 보면, 매출수량(y) 예측에 가장 큰 영향을 미친 변수는 ‘월’과 ‘cluster’임을 확인할 수 있다.\n",
        "‘월’ 변수의 중요도가 압도적으로 높게 나타난 것은, 월별 매출 변화가 뚜렷하며 계절성(seasonality)이나 프로모션 시기 등의 영향이 강하게 작용함을 의미한다. 즉, 연중 특정 시기에 매출이 집중되거나 감소하는 패턴이 모델의 예측에 결정적인 요인으로 작용하고 있다.\n",
        "\n",
        "또한 요일 '토','일','월' 변수들도 상위권에 위치하며, 주말 변수의 중요도가 높게 나타나는 것은 주말 중심 매출 집중 경향과 일치한다. 그리고 특정 메뉴들의 상위권 위치는 소비자들의 인기메뉴와 매장의 매출 기여도가 큰 것을 의미한다.\n",
        "\n",
        "종합적으로 본 모델은 시간(월·요일) 요인 + 구조적 요인(cluster) + 개별 수요 특성(메뉴·매장) 을 균형 있게 반영하여 매출수량을 설명하고 있으며, 이는 향후 수요 예측 및 재고 전략 수립 시 주요 인사이트로 활용 가능하다."
      ],
      "metadata": {
        "id": "tXu8n2WoHE3j"
      }
    }
  ]
}